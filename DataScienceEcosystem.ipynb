{
 "cells": [
  {
   "cell_type": "markdown",
   "id": "4510afc1-de67-40bc-8df5-b54fc31e2089",
   "metadata": {},
   "source": [
    "# Data Science Tools and Ecosystem"
   ]
  },
  {
   "cell_type": "markdown",
   "id": "58a727a9-8457-4309-a3ef-7caf161f4241",
   "metadata": {
    "tags": []
   },
   "source": [
    "## In this notebook, Data Science Tools and Ecosystem are summarized."
   ]
  },
  {
   "cell_type": "markdown",
   "id": "dfdf18d2-99f5-4906-8b41-37b648636ab9",
   "metadata": {},
   "source": [
    "### **Objectives:**\n",
    "+ List popular languages for data science\n",
    "+ List popular libraries\n",
    "+ List popular environments\n"
   ]
  },
  {
   "cell_type": "markdown",
   "id": "64412c6b-6840-4cb9-99b7-0054190a61ca",
   "metadata": {},
   "source": [
    "### Some of the popular languages that Data Scientists use are:\n",
    "1. Python\n",
    "2. R\n",
    "3. Julia\n",
    "4. Scala\n",
    "5. SQL\n",
    "\n",
    "\n",
    "\n"
   ]
  },
  {
   "cell_type": "markdown",
   "id": "2c676d42-1011-470c-a5e6-4f53aec71812",
   "metadata": {},
   "source": [
    "### Some of the commonly used libraries used by Data Scientists include:\n",
    "1. Pandas (Python)\n",
    "2. Dplyr (R)\n",
    "3. GGplot2 (R)"
   ]
  },
  {
   "cell_type": "markdown",
   "id": "6951f16d-da76-4ad6-b805-9c58c06a928a",
   "metadata": {
    "tags": []
   },
   "source": [
    "| Data Science Tools |\n",
    "| - |\n",
    "| R Studio |\n",
    "| VS Code  |\n",
    "| Anaconda |"
   ]
  },
  {
   "cell_type": "markdown",
   "id": "8b8675be-10c3-4ca7-a253-1b0f78ff7ec3",
   "metadata": {},
   "source": [
    "### Below are a few examples of evaluating arithmetic expressions in Python\n"
   ]
  },
  {
   "cell_type": "code",
   "execution_count": 2,
   "id": "310702a0-42c5-451a-9b79-791cede5eaaf",
   "metadata": {
    "tags": []
   },
   "outputs": [
    {
     "data": {
      "text/plain": [
       "17"
      ]
     },
     "execution_count": 2,
     "metadata": {},
     "output_type": "execute_result"
    }
   ],
   "source": [
    "#This is a simple arithmetic expression to multiply then add integers.\n",
    "(3 * 4) + 5"
   ]
  },
  {
   "cell_type": "code",
   "execution_count": 3,
   "id": "cf5cd6be-06c1-4b00-a058-0029c30c6457",
   "metadata": {
    "tags": []
   },
   "outputs": [
    {
     "data": {
      "text/plain": [
       "3.3333333333333335"
      ]
     },
     "execution_count": 3,
     "metadata": {},
     "output_type": "execute_result"
    }
   ],
   "source": [
    "# This will convert 200 minutes to hours by dividing by 60\n",
    "200 / 60"
   ]
  },
  {
   "cell_type": "markdown",
   "id": "f30c1004-cf53-4f18-a484-552499d4d22a",
   "metadata": {},
   "source": [
    "## Author\n",
    "Eduardo Silva Ang"
   ]
  },
  {
   "cell_type": "code",
   "execution_count": null,
   "id": "0db6eb35-7a38-45fc-80ed-a859b83e88bf",
   "metadata": {},
   "outputs": [],
   "source": []
  }
 ],
 "metadata": {
  "kernelspec": {
   "display_name": "Python",
   "language": "python",
   "name": "conda-env-python-py"
  },
  "language_info": {
   "codemirror_mode": {
    "name": "ipython",
    "version": 3
   },
   "file_extension": ".py",
   "mimetype": "text/x-python",
   "name": "python",
   "nbconvert_exporter": "python",
   "pygments_lexer": "ipython3",
   "version": "3.7.12"
  }
 },
 "nbformat": 4,
 "nbformat_minor": 5
}
